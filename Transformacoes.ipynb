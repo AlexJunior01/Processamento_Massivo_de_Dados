{
 "cells": [
  {
   "cell_type": "code",
   "execution_count": 1,
   "id": "af095f09",
   "metadata": {},
   "outputs": [],
   "source": [
    "import json\n",
    "from pyspark.sql import SparkSession\n",
    "import pyspark.sql.functions as f\n",
    "from pyspark.sql.types import StructType"
   ]
  },
  {
   "cell_type": "code",
   "execution_count": 2,
   "id": "a39897ea",
   "metadata": {
    "scrolled": true
   },
   "outputs": [
    {
     "name": "stderr",
     "output_type": "stream",
     "text": [
      "21/11/16 19:55:47 WARN Utils: Your hostname, alex-Inspiron-5566 resolves to a loopback address: 127.0.1.1; using 192.168.0.7 instead (on interface wlp2s0)\n",
      "21/11/16 19:55:47 WARN Utils: Set SPARK_LOCAL_IP if you need to bind to another address\n",
      "WARNING: An illegal reflective access operation has occurred\n",
      "WARNING: Illegal reflective access by org.apache.spark.unsafe.Platform (file:/home/alex/Dev/pmd/venv/lib/python3.9/site-packages/pyspark/jars/spark-unsafe_2.12-3.1.2.jar) to constructor java.nio.DirectByteBuffer(long,int)\n",
      "WARNING: Please consider reporting this to the maintainers of org.apache.spark.unsafe.Platform\n",
      "WARNING: Use --illegal-access=warn to enable warnings of further illegal reflective access operations\n",
      "WARNING: All illegal access operations will be denied in a future release\n"
     ]
    },
    {
     "name": "stdout",
     "output_type": "stream",
     "text": [
      ":: loading settings :: url = jar:file:/home/alex/Dev/pmd/venv/lib/python3.9/site-packages/pyspark/jars/ivy-2.4.0.jar!/org/apache/ivy/core/settings/ivysettings.xml\n"
     ]
    },
    {
     "name": "stderr",
     "output_type": "stream",
     "text": [
      "Ivy Default Cache set to: /home/alex/.ivy2/cache\n",
      "The jars for the packages stored in: /home/alex/.ivy2/jars\n",
      "org.mongodb.spark#mongo-spark-connector_2.12 added as a dependency\n",
      ":: resolving dependencies :: org.apache.spark#spark-submit-parent-f526d84a-caa4-4a3f-95dc-cd42212e94a6;1.0\n",
      "\tconfs: [default]\n",
      "\tfound org.mongodb.spark#mongo-spark-connector_2.12;3.0.1 in central\n",
      "\tfound org.mongodb#mongodb-driver-sync;4.0.5 in central\n",
      "\tfound org.mongodb#bson;4.0.5 in central\n",
      "\tfound org.mongodb#mongodb-driver-core;4.0.5 in central\n",
      ":: resolution report :: resolve 313ms :: artifacts dl 9ms\n",
      "\t:: modules in use:\n",
      "\torg.mongodb#bson;4.0.5 from central in [default]\n",
      "\torg.mongodb#mongodb-driver-core;4.0.5 from central in [default]\n",
      "\torg.mongodb#mongodb-driver-sync;4.0.5 from central in [default]\n",
      "\torg.mongodb.spark#mongo-spark-connector_2.12;3.0.1 from central in [default]\n",
      "\t---------------------------------------------------------------------\n",
      "\t|                  |            modules            ||   artifacts   |\n",
      "\t|       conf       | number| search|dwnlded|evicted|| number|dwnlded|\n",
      "\t---------------------------------------------------------------------\n",
      "\t|      default     |   4   |   0   |   0   |   0   ||   4   |   0   |\n",
      "\t---------------------------------------------------------------------\n",
      ":: retrieving :: org.apache.spark#spark-submit-parent-f526d84a-caa4-4a3f-95dc-cd42212e94a6\n",
      "\tconfs: [default]\n",
      "\t0 artifacts copied, 4 already retrieved (0kB/10ms)\n",
      "21/11/16 19:55:48 WARN NativeCodeLoader: Unable to load native-hadoop library for your platform... using builtin-java classes where applicable\n",
      "Using Spark's default log4j profile: org/apache/spark/log4j-defaults.properties\n",
      "Setting default log level to \"WARN\".\n",
      "To adjust logging level use sc.setLogLevel(newLevel). For SparkR, use setLogLevel(newLevel).\n"
     ]
    }
   ],
   "source": [
    "# Criando SparkSession\n",
    "spark = SparkSession.builder\\\n",
    "        .master(\"local[*]\")\\\n",
    "        .appName('PySpark_Tutorial')\\\n",
    "        .config(\"spark.mongodb.output.uri\", \"mongodb://127.0.0.1/\") \\\n",
    "        .config('spark.jars.packages', 'org.mongodb.spark:mongo-spark-connector_2.12:3.0.1')\\\n",
    "        .getOrCreate()"
   ]
  },
  {
   "cell_type": "code",
   "execution_count": 4,
   "id": "60c10786",
   "metadata": {},
   "outputs": [],
   "source": [
    "lista_paises = ['CA', 'DE', 'FR', 'GB', 'IN', 'JP', 'KR', 'MX', 'RU', 'US']\n",
    "base_name_csv = 'videos.csv'\n",
    "base_name_json = '_category_id.json'\n",
    "path = 'archive/'\n",
    "videos = {}\n",
    "categorias = {}\n",
    "todos = None"
   ]
  },
  {
   "cell_type": "code",
   "execution_count": 5,
   "id": "2da9c137",
   "metadata": {},
   "outputs": [],
   "source": [
    "colunas = ['video_id', 'trending_date', 'title', 'category_id', 'publish_time', 'views', 'likes', 'dislikes', \\\n",
    "           'comment_count']"
   ]
  },
  {
   "cell_type": "code",
   "execution_count": 6,
   "id": "54446aee",
   "metadata": {},
   "outputs": [],
   "source": [
    "# Separando os items do JSON\n",
    "for pais in lista_paises:\n",
    "    with open('original/'+ pais +'_category_id.json') as categories:\n",
    "        obj = json.load(categories)\n",
    "        items = obj['items']\n",
    "\n",
    "        with open(path+ pais +'_category_id.json', 'w') as file:\n",
    "           json.dump(items, file)"
   ]
  },
  {
   "cell_type": "markdown",
   "id": "61f3e0b7",
   "metadata": {},
   "source": [
    "## Lendo os arquivos de vídeos"
   ]
  },
  {
   "cell_type": "code",
   "execution_count": 7,
   "id": "c8ce3359",
   "metadata": {},
   "outputs": [
    {
     "name": "stdout",
     "output_type": "stream",
     "text": [
      "CA\n"
     ]
    },
    {
     "name": "stderr",
     "output_type": "stream",
     "text": [
      "\r",
      "[Stage 0:>                                                          (0 + 1) / 1]\r",
      "\r",
      "                                                                                \r"
     ]
    },
    {
     "name": "stdout",
     "output_type": "stream",
     "text": [
      "DE\n",
      "FR\n",
      "GB\n",
      "IN\n",
      "JP\n",
      "KR\n",
      "MX\n",
      "RU\n",
      "US\n"
     ]
    }
   ],
   "source": [
    "for pais in lista_paises:\n",
    "    categorias[pais] = spark.read.format('org.apache.spark.sql.json').option(\"multiline\",\"true\") \\\n",
    "        .load(path+pais+base_name_json)\\\n",
    "        .select(\"id\", f.col(\"snippet.title\").alias('category_title'))\n",
    "    \n",
    "    videos[pais] = spark.read.format(\"csv\").option(\"header\", \"true\").load('original/'+pais+base_name_csv) \\\n",
    "        .select(colunas) \\\n",
    "        .join(categorias[pais], f.col('category_id') == f.col('id')) \\\n",
    "        .drop('category_id') \\\n",
    "        .drop('id')\n",
    "    "
   ]
  },
  {
   "cell_type": "markdown",
   "id": "c6e48a0c",
   "metadata": {},
   "source": [
    "## Resultados Leitura"
   ]
  },
  {
   "cell_type": "code",
   "execution_count": 8,
   "id": "7047b7e1",
   "metadata": {},
   "outputs": [
    {
     "name": "stdout",
     "output_type": "stream",
     "text": [
      "root\n",
      " |-- video_id: string (nullable = true)\n",
      " |-- trending_date: string (nullable = true)\n",
      " |-- title: string (nullable = true)\n",
      " |-- publish_time: string (nullable = true)\n",
      " |-- views: string (nullable = true)\n",
      " |-- likes: string (nullable = true)\n",
      " |-- dislikes: string (nullable = true)\n",
      " |-- comment_count: string (nullable = true)\n",
      " |-- category_title: string (nullable = true)\n",
      "\n"
     ]
    }
   ],
   "source": [
    "## Mostra o schema do Dataframe\n",
    "videos['US'].printSchema()"
   ]
  },
  {
   "cell_type": "code",
   "execution_count": 9,
   "id": "389a1c77",
   "metadata": {},
   "outputs": [
    {
     "name": "stdout",
     "output_type": "stream",
     "text": [
      "root\n",
      " |-- id: string (nullable = true)\n",
      " |-- category_title: string (nullable = true)\n",
      "\n"
     ]
    }
   ],
   "source": [
    "categorias['US'].printSchema()"
   ]
  },
  {
   "cell_type": "code",
   "execution_count": 10,
   "id": "e6cc130c",
   "metadata": {},
   "outputs": [
    {
     "name": "stdout",
     "output_type": "stream",
     "text": [
      "+---+--------------------+\n",
      "| id|      category_title|\n",
      "+---+--------------------+\n",
      "|  1|    Film & Animation|\n",
      "|  2|    Autos & Vehicles|\n",
      "| 10|               Music|\n",
      "| 15|      Pets & Animals|\n",
      "| 17|              Sports|\n",
      "| 18|        Short Movies|\n",
      "| 19|     Travel & Events|\n",
      "| 20|              Gaming|\n",
      "| 21|       Videoblogging|\n",
      "| 22|      People & Blogs|\n",
      "| 23|              Comedy|\n",
      "| 24|       Entertainment|\n",
      "| 25|     News & Politics|\n",
      "| 26|       Howto & Style|\n",
      "| 27|           Education|\n",
      "| 28|Science & Technology|\n",
      "| 29|Nonprofits & Acti...|\n",
      "| 30|              Movies|\n",
      "| 31|     Anime/Animation|\n",
      "| 32|    Action/Adventure|\n",
      "+---+--------------------+\n",
      "only showing top 20 rows\n",
      "\n"
     ]
    }
   ],
   "source": [
    "categorias['US'].select('*').show()"
   ]
  },
  {
   "cell_type": "markdown",
   "id": "a60e1545",
   "metadata": {},
   "source": [
    "### 3. Unindo Dataframes"
   ]
  },
  {
   "cell_type": "code",
   "execution_count": 11,
   "id": "7b8c2242",
   "metadata": {},
   "outputs": [],
   "source": [
    "schema = videos['US'].schema\n",
    "df_videos = spark.createDataFrame([], schema)"
   ]
  },
  {
   "cell_type": "code",
   "execution_count": 12,
   "id": "ea385d46",
   "metadata": {
    "scrolled": true
   },
   "outputs": [
    {
     "name": "stdout",
     "output_type": "stream",
     "text": [
      "root\n",
      " |-- video_id: string (nullable = true)\n",
      " |-- trending_date: string (nullable = true)\n",
      " |-- title: string (nullable = true)\n",
      " |-- publish_time: string (nullable = true)\n",
      " |-- views: string (nullable = true)\n",
      " |-- likes: string (nullable = true)\n",
      " |-- dislikes: string (nullable = true)\n",
      " |-- comment_count: string (nullable = true)\n",
      " |-- category_title: string (nullable = true)\n",
      "\n"
     ]
    }
   ],
   "source": [
    "df_videos.printSchema()"
   ]
  },
  {
   "cell_type": "code",
   "execution_count": 13,
   "id": "8c695bf8",
   "metadata": {},
   "outputs": [],
   "source": [
    "for pais in lista_paises:\n",
    "    df_videos = df_videos.union(videos[pais])"
   ]
  },
  {
   "cell_type": "code",
   "execution_count": 14,
   "id": "8abf8c0d",
   "metadata": {},
   "outputs": [],
   "source": [
    "df_videos = df_videos.withColumn('views', f.col('views').cast('int')) \\\n",
    "                     .withColumn('likes', f.col('likes').cast('int')) \\\n",
    "                     .withColumn('dislikes', f.col('dislikes').cast('int')) \\\n",
    "                     .withColumn('comment_count', f.col('comment_count').cast('int')) \\\n",
    "                     .withColumn('trending_date', f.to_timestamp(f.col('trending_date'), 'yy.dd.MM')) \\\n",
    "                     .withColumn('publish_time', f.regexp_replace('publish_time', 'T', ' ')) \\\n",
    "                     .withColumn('publish_time', f.regexp_replace('publish_time', 'Z', '')) \\\n",
    "                     .withColumn('publish_time', f.to_timestamp(f.col('publish_time'), 'yyyy-MM-dd HH:mm:ss.SSS'))\\\n",
    "                     .withColumn(\"trending_date\", f.col(\"trending_date\") + f.expr(\"INTERVAL 1 days\"))\n",
    "    "
   ]
  },
  {
   "cell_type": "code",
   "execution_count": 15,
   "id": "229e23d1",
   "metadata": {},
   "outputs": [
    {
     "name": "stdout",
     "output_type": "stream",
     "text": [
      "root\n",
      " |-- video_id: string (nullable = true)\n",
      " |-- trending_date: timestamp (nullable = true)\n",
      " |-- title: string (nullable = true)\n",
      " |-- publish_time: timestamp (nullable = true)\n",
      " |-- views: integer (nullable = true)\n",
      " |-- likes: integer (nullable = true)\n",
      " |-- dislikes: integer (nullable = true)\n",
      " |-- comment_count: integer (nullable = true)\n",
      " |-- category_title: string (nullable = true)\n",
      "\n"
     ]
    }
   ],
   "source": [
    "df_videos.printSchema()"
   ]
  },
  {
   "cell_type": "markdown",
   "id": "c35ca24b",
   "metadata": {},
   "source": [
    "### 4. Lidando com valores nulos"
   ]
  },
  {
   "cell_type": "code",
   "execution_count": 16,
   "id": "f314f1d0",
   "metadata": {},
   "outputs": [],
   "source": [
    "df_videos = df_videos.na.fill(value=0,subset=['comment_count', 'likes', 'dislikes'])"
   ]
  },
  {
   "cell_type": "markdown",
   "id": "b06ac06b",
   "metadata": {},
   "source": [
    "### 4.2 Deixando valores únicos"
   ]
  },
  {
   "cell_type": "code",
   "execution_count": 17,
   "id": "7ed46880",
   "metadata": {},
   "outputs": [],
   "source": [
    "df_interations = df_videos.groupBy('video_id')\\\n",
    "            .agg(f.max('views').alias('max_views'),\n",
    "                 f.max('likes').alias('max_likes'),\n",
    "                 f.max('dislikes').alias('max_dislikes'),\n",
    "                 f.max('comment_count').alias('max_comment_count'),\n",
    "                 f.min('publish_time').alias('min_publish_time'),\n",
    "                 f.min('trending_date').alias('min_trending_date'))\\\n",
    "            .withColumnRenamed('video_id', 'video_id_temp')\n",
    "\n",
    "\n"
   ]
  },
  {
   "cell_type": "code",
   "execution_count": 18,
   "id": "3cbc6639",
   "metadata": {},
   "outputs": [],
   "source": [
    "df_videos = df_videos.join(df_interations, f.col('video_id') == f.col('video_id_temp'))\\\n",
    "            .dropDuplicates(['video_id']) \\\n",
    "            .drop(\"views\", \"likes\", \"dislikes\", \"comment_count\", \"trending_date\", 'publish_time', 'video_id_temp') \\\n",
    "            .withColumnRenamed('max_views', 'views') \\\n",
    "            .withColumnRenamed('max_dislikes', 'dislikes') \\\n",
    "            .withColumnRenamed('max_comment_count', 'comment_count') \\\n",
    "            .withColumnRenamed('min_trending_date', 'trending_date') \\\n",
    "            .withColumnRenamed('min_publish_time', 'publish_time') \\\n",
    "            .withColumnRenamed('max_likes', 'likes')"
   ]
  },
  {
   "cell_type": "code",
   "execution_count": 19,
   "id": "e83d28fe",
   "metadata": {},
   "outputs": [
    {
     "name": "stderr",
     "output_type": "stream",
     "text": [
      "                                                                                \r"
     ]
    },
    {
     "data": {
      "text/plain": [
       "182317"
      ]
     },
     "execution_count": 19,
     "metadata": {},
     "output_type": "execute_result"
    }
   ],
   "source": [
    "df_videos.count()"
   ]
  },
  {
   "cell_type": "markdown",
   "id": "464c1516",
   "metadata": {},
   "source": [
    "### 5. Criando coluna interations"
   ]
  },
  {
   "cell_type": "code",
   "execution_count": 20,
   "id": "84265883",
   "metadata": {},
   "outputs": [],
   "source": [
    "df_videos = df_videos.withColumn('interation', f.col('likes')+f.col('dislikes')+f.col('comment_count'))"
   ]
  },
  {
   "cell_type": "code",
   "execution_count": 21,
   "id": "f1278c2f",
   "metadata": {},
   "outputs": [
    {
     "name": "stderr",
     "output_type": "stream",
     "text": [
      "[Stage 46:==================================================>     (40 + 4) / 44]\r"
     ]
    },
    {
     "name": "stdout",
     "output_type": "stream",
     "text": [
      "+-----------+-------------+------+--------+----------+\n",
      "|video_id   |comment_count|likes |dislikes|interation|\n",
      "+-----------+-------------+------+--------+----------+\n",
      "|-H90GPnH1q8|4907         |0     |0       |4907      |\n",
      "|-mCPxSHIrPc|700          |7246  |840     |8786      |\n",
      "|02QdxSLdVQc|2840         |16337 |240     |19417     |\n",
      "|08-n4j46okM|215          |8030  |64      |8309      |\n",
      "|08URtcZ8em0|461          |2962  |45      |3468      |\n",
      "|0BbDgMYIiEU|438          |9501  |899     |10838     |\n",
      "|0Bl7xVD7Xtg|159          |698   |25      |882       |\n",
      "|0C6b6U9fz68|0            |0     |0       |0         |\n",
      "|0IVFegsnfwI|92           |367   |46      |505       |\n",
      "|0MhAoY5piug|137          |491   |104     |732       |\n",
      "|0UTg35xNT1s|126          |101   |42      |269       |\n",
      "|0YyNLjWjJ_c|19           |741   |23      |783       |\n",
      "|0ZBz_1PCpOw|313          |1523  |52      |1888      |\n",
      "|0bXCbVGb04A|47646        |200284|6154    |254084    |\n",
      "|0vxqPjiOHnQ|10           |225   |1       |236       |\n",
      "|11K013qpRR4|6580         |38937 |1198    |46715     |\n",
      "|12vtBuPPeJw|9709         |45081 |522     |55312     |\n",
      "|14P_ewCNSlU|558          |3663  |100     |4321      |\n",
      "|15Eb9gkeQkA|128          |1920  |36      |2084      |\n",
      "|173_sjiKXQk|406          |3227  |333     |3966      |\n",
      "+-----------+-------------+------+--------+----------+\n",
      "only showing top 20 rows\n",
      "\n"
     ]
    },
    {
     "name": "stderr",
     "output_type": "stream",
     "text": [
      "\r",
      "[Stage 46:=====================================================>  (42 + 2) / 44]\r",
      "\r",
      "                                                                                \r"
     ]
    }
   ],
   "source": [
    "df_videos.select('video_id', 'comment_count', 'likes', 'dislikes', 'interation').show(truncate=False)"
   ]
  },
  {
   "cell_type": "markdown",
   "id": "a0b68831",
   "metadata": {},
   "source": [
    "### 6. Criando coluna time_to_trends"
   ]
  },
  {
   "cell_type": "code",
   "execution_count": 22,
   "id": "4e3f1668",
   "metadata": {},
   "outputs": [],
   "source": [
    "df_videos = df_videos.withColumn('time_to_trends', f.col('trending_date').cast('long') - f.col('publish_time').cast('long'))"
   ]
  },
  {
   "cell_type": "code",
   "execution_count": 23,
   "id": "5f8f5114",
   "metadata": {
    "scrolled": true
   },
   "outputs": [
    {
     "name": "stderr",
     "output_type": "stream",
     "text": [
      "[Stage 69:====================================================>   (41 + 3) / 44]\r"
     ]
    },
    {
     "name": "stdout",
     "output_type": "stream",
     "text": [
      "+-----------+-------------------+-------+---------------+-------------------+--------------+\n",
      "|video_id   |trending_date      |views  |category_title |publish_time       |time_to_trends|\n",
      "+-----------+-------------------+-------+---------------+-------------------+--------------+\n",
      "|-H90GPnH1q8|2017-12-12 00:00:00|968586 |Entertainment  |2017-12-11 03:40:15|73185         |\n",
      "|-mCPxSHIrPc|2017-12-13 00:00:00|119872 |Entertainment  |2017-12-11 14:30:58|120542        |\n",
      "|02QdxSLdVQc|2018-01-25 00:00:00|222149 |People & Blogs |2018-01-23 22:10:38|92962         |\n",
      "|08-n4j46okM|2018-02-09 00:00:00|63894  |People & Blogs |2018-02-07 16:42:46|112634        |\n",
      "|08URtcZ8em0|2018-05-15 00:00:00|28982  |Entertainment  |2018-05-13 14:56:59|118981        |\n",
      "|0BbDgMYIiEU|2017-12-27 00:00:00|162866 |Entertainment  |2017-12-25 15:48:41|115879        |\n",
      "|0Bl7xVD7Xtg|2018-01-25 00:00:00|8276   |Entertainment  |2018-01-24 01:00:02|82798         |\n",
      "|0C6b6U9fz68|2018-01-06 00:00:00|26350  |Education      |2018-01-04 04:24:13|156947        |\n",
      "|0IVFegsnfwI|2018-05-30 00:00:00|63584  |Entertainment  |2018-05-27 20:19:20|186040        |\n",
      "|0MhAoY5piug|2018-04-21 00:00:00|241924 |News & Politics|2018-04-19 11:05:21|132879        |\n",
      "|0UTg35xNT1s|2018-03-25 00:00:00|30363  |Entertainment  |2018-03-23 13:30:00|124200        |\n",
      "|0YyNLjWjJ_c|2018-04-05 00:00:00|84055  |People & Blogs |2018-04-03 18:09:59|107401        |\n",
      "|0ZBz_1PCpOw|2018-01-15 00:00:00|29941  |Entertainment  |2018-01-12 13:46:40|209600        |\n",
      "|0bXCbVGb04A|2018-06-12 00:00:00|4585563|Gaming         |2018-06-10 19:05:21|104079        |\n",
      "|0vxqPjiOHnQ|2018-01-04 00:00:00|15782  |People & Blogs |2017-12-05 12:43:21|2546199       |\n",
      "|11K013qpRR4|2018-06-10 00:00:00|3128325|Entertainment  |2018-06-05 12:50:30|385770        |\n",
      "|12vtBuPPeJw|2018-05-22 00:00:00|462035 |People & Blogs |2018-05-20 09:27:41|138739        |\n",
      "|14P_ewCNSlU|2017-12-19 00:00:00|166119 |Gaming         |2017-12-17 18:00:00|108000        |\n",
      "|15Eb9gkeQkA|2018-01-22 00:00:00|23258  |Howto & Style  |2018-01-20 11:30:01|131399        |\n",
      "|173_sjiKXQk|2017-12-01 00:00:00|583707 |Education      |2017-11-29 12:02:39|129441        |\n",
      "+-----------+-------------------+-------+---------------+-------------------+--------------+\n",
      "only showing top 20 rows\n",
      "\n"
     ]
    },
    {
     "name": "stderr",
     "output_type": "stream",
     "text": [
      "\r",
      "                                                                                \r"
     ]
    }
   ],
   "source": [
    "df_videos.select('video_id', 'trending_date', 'views', 'category_title', 'publish_time', 'time_to_trends').show(truncate=False)"
   ]
  },
  {
   "cell_type": "code",
   "execution_count": 24,
   "id": "aa0e2863",
   "metadata": {},
   "outputs": [
    {
     "name": "stdout",
     "output_type": "stream",
     "text": [
      "root\n",
      " |-- video_id: string (nullable = true)\n",
      " |-- title: string (nullable = true)\n",
      " |-- category_title: string (nullable = true)\n",
      " |-- views: integer (nullable = true)\n",
      " |-- likes: integer (nullable = true)\n",
      " |-- dislikes: integer (nullable = true)\n",
      " |-- comment_count: integer (nullable = true)\n",
      " |-- publish_time: timestamp (nullable = true)\n",
      " |-- trending_date: timestamp (nullable = true)\n",
      " |-- interation: integer (nullable = true)\n",
      " |-- time_to_trends: long (nullable = true)\n",
      "\n"
     ]
    }
   ],
   "source": [
    "df_videos.printSchema()"
   ]
  },
  {
   "cell_type": "markdown",
   "id": "e7d09f93",
   "metadata": {},
   "source": [
    "### 7. Criando Dataframe de Categoria"
   ]
  },
  {
   "cell_type": "code",
   "execution_count": 25,
   "id": "cddc6bea",
   "metadata": {},
   "outputs": [
    {
     "name": "stderr",
     "output_type": "stream",
     "text": [
      "                                                                                \r"
     ]
    },
    {
     "data": {
      "text/plain": [
       "[(1, 'Shows'),\n",
       " (2, 'Education'),\n",
       " (3, 'Gaming'),\n",
       " (4, 'Entertainment'),\n",
       " (5, 'Travel & Events'),\n",
       " (6, 'Science & Technology'),\n",
       " (7, 'Sports'),\n",
       " (8, 'Howto & Style'),\n",
       " (9, 'Nonprofits & Activism'),\n",
       " (10, 'Film & Animation'),\n",
       " (11, 'People & Blogs'),\n",
       " (12, 'News & Politics'),\n",
       " (13, 'Pets & Animals'),\n",
       " (14, 'Movies'),\n",
       " (15, 'Autos & Vehicles'),\n",
       " (16, 'Music'),\n",
       " (17, 'Comedy'),\n",
       " (18, 'Trailers')]"
      ]
     },
     "execution_count": 25,
     "metadata": {},
     "output_type": "execute_result"
    }
   ],
   "source": [
    "categorias_text = df_videos.select('category_title').distinct().collect()\n",
    "ids = [(idx+1, row.category_title) for idx, row in enumerate(categorias_text)]\n",
    "ids"
   ]
  },
  {
   "cell_type": "code",
   "execution_count": 26,
   "id": "70a3dd2a",
   "metadata": {},
   "outputs": [],
   "source": [
    "df_categorias = spark.createDataFrame(ids).toDF('id', 'category_name')\n"
   ]
  },
  {
   "cell_type": "code",
   "execution_count": 27,
   "id": "0ad3cbdb",
   "metadata": {},
   "outputs": [
    {
     "name": "stdout",
     "output_type": "stream",
     "text": [
      "+---+--------------------+\n",
      "| id|       category_name|\n",
      "+---+--------------------+\n",
      "|  1|               Shows|\n",
      "|  2|           Education|\n",
      "|  3|              Gaming|\n",
      "|  4|       Entertainment|\n",
      "|  5|     Travel & Events|\n",
      "|  6|Science & Technology|\n",
      "|  7|              Sports|\n",
      "|  8|       Howto & Style|\n",
      "|  9|Nonprofits & Acti...|\n",
      "| 10|    Film & Animation|\n",
      "| 11|      People & Blogs|\n",
      "| 12|     News & Politics|\n",
      "| 13|      Pets & Animals|\n",
      "| 14|              Movies|\n",
      "| 15|    Autos & Vehicles|\n",
      "| 16|               Music|\n",
      "| 17|              Comedy|\n",
      "| 18|            Trailers|\n",
      "+---+--------------------+\n",
      "\n"
     ]
    }
   ],
   "source": [
    "df_categorias.show()"
   ]
  },
  {
   "cell_type": "markdown",
   "id": "0740123e",
   "metadata": {},
   "source": [
    "### 8. Atualizando ID das categorias no DataFrame de Videos"
   ]
  },
  {
   "cell_type": "code",
   "execution_count": 28,
   "id": "b1415be9",
   "metadata": {},
   "outputs": [],
   "source": [
    "df_videos = df_videos.join(df_categorias, f.col('category_title') == f.col('category_name')) \\\n",
    "                    .withColumnRenamed('id', 'category_id') \\\n",
    "                    .drop('category_title')"
   ]
  },
  {
   "cell_type": "code",
   "execution_count": 29,
   "id": "cbfd98b1",
   "metadata": {
    "scrolled": true
   },
   "outputs": [
    {
     "name": "stdout",
     "output_type": "stream",
     "text": [
      "root\n",
      " |-- video_id: string (nullable = true)\n",
      " |-- title: string (nullable = true)\n",
      " |-- views: integer (nullable = true)\n",
      " |-- likes: integer (nullable = true)\n",
      " |-- dislikes: integer (nullable = true)\n",
      " |-- comment_count: integer (nullable = true)\n",
      " |-- publish_time: timestamp (nullable = true)\n",
      " |-- trending_date: timestamp (nullable = true)\n",
      " |-- interation: integer (nullable = true)\n",
      " |-- time_to_trends: long (nullable = true)\n",
      " |-- category_id: long (nullable = true)\n",
      " |-- category_name: string (nullable = true)\n",
      "\n"
     ]
    }
   ],
   "source": [
    "df_videos.printSchema()"
   ]
  },
  {
   "cell_type": "markdown",
   "id": "ddcf9899",
   "metadata": {},
   "source": [
    "### 9. Criar coluna qtd_view no DataFrame de Categorias"
   ]
  },
  {
   "cell_type": "code",
   "execution_count": 30,
   "id": "c229f9ea",
   "metadata": {},
   "outputs": [],
   "source": [
    "df_categorias = df_categorias.join( \\\n",
    "                        df_videos.groupBy('category_id').agg(f.sum('views').alias('qtd_views')), \\\n",
    "                        f.col('id') == f.col('category_id')) \\\n",
    "                    .drop('category_id')         "
   ]
  },
  {
   "cell_type": "code",
   "execution_count": null,
   "id": "3595366f",
   "metadata": {
    "scrolled": true
   },
   "outputs": [
    {
     "name": "stderr",
     "output_type": "stream",
     "text": [
      "[Stage 117:>(17 + 4) / 44][Stage 118:> (0 + 0) / 44][Stage 120:>  (0 + 0) / 4]\r"
     ]
    }
   ],
   "source": [
    "df_categorias.show()"
   ]
  },
  {
   "cell_type": "code",
   "execution_count": null,
   "id": "e2f2d7e7",
   "metadata": {},
   "outputs": [],
   "source": [
    "df_categorias.printSchema()"
   ]
  },
  {
   "cell_type": "markdown",
   "id": "a68e9ec8",
   "metadata": {},
   "source": [
    "## Salvando dados no MongoDB"
   ]
  },
  {
   "cell_type": "code",
   "execution_count": null,
   "id": "31cc7ed9",
   "metadata": {},
   "outputs": [],
   "source": [
    "df_categorias.write.format(\"mongo\").mode(\"overwrite\").option(\"database\",\"youtube_trending\")\\\n",
    "            .option(\"collection\", \"categorias\").save()"
   ]
  },
  {
   "cell_type": "code",
   "execution_count": null,
   "id": "8447aef9",
   "metadata": {},
   "outputs": [],
   "source": [
    "df_videos.write.format(\"mongo\").mode(\"overwrite\").option(\"database\",\"youtube_trending\") \\\n",
    "            .option(\"collection\", \"videos\").save()"
   ]
  }
 ],
 "metadata": {
  "kernelspec": {
   "display_name": "Python 3 (ipykernel)",
   "language": "python",
   "name": "python3"
  },
  "language_info": {
   "codemirror_mode": {
    "name": "ipython",
    "version": 3
   },
   "file_extension": ".py",
   "mimetype": "text/x-python",
   "name": "python",
   "nbconvert_exporter": "python",
   "pygments_lexer": "ipython3",
   "version": "3.9.7"
  }
 },
 "nbformat": 4,
 "nbformat_minor": 5
}
