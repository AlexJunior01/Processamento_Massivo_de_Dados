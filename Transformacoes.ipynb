{
 "cells": [
  {
   "cell_type": "code",
   "execution_count": 1,
   "id": "f9b7361d",
   "metadata": {},
   "outputs": [],
   "source": [
    "import json\n",
    "from pyspark.sql import SparkSession\n",
    "import pyspark.sql.functions as f\n",
    "from pyspark.sql.types import StructType"
   ]
  },
  {
   "cell_type": "code",
   "execution_count": 2,
   "id": "21d72d61",
   "metadata": {},
   "outputs": [
    {
     "name": "stderr",
     "output_type": "stream",
     "text": [
      "21/11/11 19:51:31 WARN Utils: Your hostname, alex-Inspiron-5566 resolves to a loopback address: 127.0.1.1; using 192.168.18.10 instead (on interface enp3s0)\n",
      "21/11/11 19:51:31 WARN Utils: Set SPARK_LOCAL_IP if you need to bind to another address\n",
      "WARNING: An illegal reflective access operation has occurred\n",
      "WARNING: Illegal reflective access by org.apache.spark.unsafe.Platform (file:/home/alex/Dev/pmd/venv/lib/python3.9/site-packages/pyspark/jars/spark-unsafe_2.12-3.1.2.jar) to constructor java.nio.DirectByteBuffer(long,int)\n",
      "WARNING: Please consider reporting this to the maintainers of org.apache.spark.unsafe.Platform\n",
      "WARNING: Use --illegal-access=warn to enable warnings of further illegal reflective access operations\n",
      "WARNING: All illegal access operations will be denied in a future release\n"
     ]
    },
    {
     "name": "stdout",
     "output_type": "stream",
     "text": [
      ":: loading settings :: url = jar:file:/home/alex/Dev/pmd/venv/lib/python3.9/site-packages/pyspark/jars/ivy-2.4.0.jar!/org/apache/ivy/core/settings/ivysettings.xml\n"
     ]
    },
    {
     "name": "stderr",
     "output_type": "stream",
     "text": [
      "Ivy Default Cache set to: /home/alex/.ivy2/cache\n",
      "The jars for the packages stored in: /home/alex/.ivy2/jars\n",
      "org.mongodb.spark#mongo-spark-connector_2.12 added as a dependency\n",
      ":: resolving dependencies :: org.apache.spark#spark-submit-parent-9714d291-4da0-48e9-8d07-ae37ff80f13d;1.0\n",
      "\tconfs: [default]\n",
      "\tfound org.mongodb.spark#mongo-spark-connector_2.12;3.0.1 in central\n",
      "\tfound org.mongodb#mongodb-driver-sync;4.0.5 in central\n",
      "\tfound org.mongodb#bson;4.0.5 in central\n",
      "\tfound org.mongodb#mongodb-driver-core;4.0.5 in central\n",
      ":: resolution report :: resolve 359ms :: artifacts dl 14ms\n",
      "\t:: modules in use:\n",
      "\torg.mongodb#bson;4.0.5 from central in [default]\n",
      "\torg.mongodb#mongodb-driver-core;4.0.5 from central in [default]\n",
      "\torg.mongodb#mongodb-driver-sync;4.0.5 from central in [default]\n",
      "\torg.mongodb.spark#mongo-spark-connector_2.12;3.0.1 from central in [default]\n",
      "\t---------------------------------------------------------------------\n",
      "\t|                  |            modules            ||   artifacts   |\n",
      "\t|       conf       | number| search|dwnlded|evicted|| number|dwnlded|\n",
      "\t---------------------------------------------------------------------\n",
      "\t|      default     |   4   |   0   |   0   |   0   ||   4   |   0   |\n",
      "\t---------------------------------------------------------------------\n",
      ":: retrieving :: org.apache.spark#spark-submit-parent-9714d291-4da0-48e9-8d07-ae37ff80f13d\n",
      "\tconfs: [default]\n",
      "\t0 artifacts copied, 4 already retrieved (0kB/25ms)\n",
      "21/11/11 19:51:33 WARN NativeCodeLoader: Unable to load native-hadoop library for your platform... using builtin-java classes where applicable\n",
      "Using Spark's default log4j profile: org/apache/spark/log4j-defaults.properties\n",
      "Setting default log level to \"WARN\".\n",
      "To adjust logging level use sc.setLogLevel(newLevel). For SparkR, use setLogLevel(newLevel).\n"
     ]
    }
   ],
   "source": [
    "# Criando SparkSession\n",
    "spark = SparkSession.builder\\\n",
    "        .master(\"local[*]\")\\\n",
    "        .appName('PySpark_Tutorial')\\\n",
    "        .config(\"spark.mongodb.output.uri\", \"mongodb://127.0.0.1/\") \\\n",
    "        .config('spark.jars.packages', 'org.mongodb.spark:mongo-spark-connector_2.12:3.0.1')\\\n",
    "        .getOrCreate()"
   ]
  },
  {
   "cell_type": "code",
   "execution_count": 3,
   "id": "88102a87",
   "metadata": {},
   "outputs": [],
   "source": [
    "## Corrigir gambiarra depois\n",
    "\n",
    "# # Separando os items do JSON\n",
    "# for pais in lista_paises:\n",
    "#     with open('archive/'+ pais +'_category_id.json') as categories:\n",
    "#         obj = json.load(categories)\n",
    "#         items = obj['items']\n",
    "\n",
    "#         with open('archive/'+ pais +'_category_id.json', 'w') as f:\n",
    "#             json.dump(items, f)"
   ]
  },
  {
   "cell_type": "code",
   "execution_count": 3,
   "id": "e1e43e57",
   "metadata": {},
   "outputs": [],
   "source": [
    "lista_paises = ['CA', 'DE', 'FR', 'GB', 'IN', 'JP', 'KR', 'MX', 'RU', 'US']\n",
    "base_name_csv = 'videos.csv'\n",
    "base_name_json = '_category_id.json'\n",
    "path = 'archive/'\n",
    "videos = {}\n",
    "categorias = {}\n",
    "todos = None"
   ]
  },
  {
   "cell_type": "code",
   "execution_count": 4,
   "id": "6292df61",
   "metadata": {},
   "outputs": [],
   "source": [
    "colunas = ['video_id', 'trending_date', 'title', 'category_id', 'publish_time', 'views', 'likes', 'dislikes', \\\n",
    "           'comment_count']"
   ]
  },
  {
   "cell_type": "code",
   "execution_count": null,
   "id": "68fdde18",
   "metadata": {},
   "outputs": [],
   "source": []
  },
  {
   "cell_type": "markdown",
   "id": "f7552195",
   "metadata": {},
   "source": [
    "## Lendo os arquivos de vídeos"
   ]
  },
  {
   "cell_type": "code",
   "execution_count": 5,
   "id": "56e2b230",
   "metadata": {},
   "outputs": [],
   "source": [
    "# Comando de leitura\n",
    "\n",
    "for pais in lista_paises:\n",
    "    categorias[pais] = spark.read.format('org.apache.spark.sql.json').option(\"multiline\",\"true\") \\\n",
    "        .load(path+pais+base_name_json)\\\n",
    "        .select(\"id\", f.col(\"snippet.title\").alias('category_title'))\n",
    "    \n",
    "    videos[pais] = spark.read.format(\"csv\").option(\"header\", \"true\").load(path+pais+base_name_csv) \\\n",
    "        .select(colunas) \\\n",
    "        .join(categorias[pais], f.col('category_id') == f.col('id')) \\\n",
    "        .drop('category_id') \\\n",
    "        .drop('id')\n",
    "    "
   ]
  },
  {
   "cell_type": "markdown",
   "id": "5d4ac2ea",
   "metadata": {},
   "source": [
    "## Resultados Leitura"
   ]
  },
  {
   "cell_type": "code",
   "execution_count": 6,
   "id": "6e759ce6",
   "metadata": {},
   "outputs": [
    {
     "name": "stdout",
     "output_type": "stream",
     "text": [
      "root\n",
      " |-- video_id: string (nullable = true)\n",
      " |-- trending_date: string (nullable = true)\n",
      " |-- title: string (nullable = true)\n",
      " |-- publish_time: string (nullable = true)\n",
      " |-- views: string (nullable = true)\n",
      " |-- likes: string (nullable = true)\n",
      " |-- dislikes: string (nullable = true)\n",
      " |-- comment_count: string (nullable = true)\n",
      " |-- category_title: string (nullable = true)\n",
      "\n"
     ]
    }
   ],
   "source": [
    "## Mostra o schema do Dataframe\n",
    "videos['US'].printSchema()"
   ]
  },
  {
   "cell_type": "code",
   "execution_count": 7,
   "id": "5e2710d4",
   "metadata": {},
   "outputs": [
    {
     "name": "stdout",
     "output_type": "stream",
     "text": [
      "root\n",
      " |-- id: string (nullable = true)\n",
      " |-- category_title: string (nullable = true)\n",
      "\n"
     ]
    }
   ],
   "source": [
    "categorias['US'].printSchema()"
   ]
  },
  {
   "cell_type": "code",
   "execution_count": 8,
   "id": "07302c73",
   "metadata": {},
   "outputs": [
    {
     "name": "stdout",
     "output_type": "stream",
     "text": [
      "+---+--------------------+\n",
      "| id|      category_title|\n",
      "+---+--------------------+\n",
      "|  1|    Film & Animation|\n",
      "|  2|    Autos & Vehicles|\n",
      "| 10|               Music|\n",
      "| 15|      Pets & Animals|\n",
      "| 17|              Sports|\n",
      "| 18|        Short Movies|\n",
      "| 19|     Travel & Events|\n",
      "| 20|              Gaming|\n",
      "| 21|       Videoblogging|\n",
      "| 22|      People & Blogs|\n",
      "| 23|              Comedy|\n",
      "| 24|       Entertainment|\n",
      "| 25|     News & Politics|\n",
      "| 26|       Howto & Style|\n",
      "| 27|           Education|\n",
      "| 28|Science & Technology|\n",
      "| 29|Nonprofits & Acti...|\n",
      "| 30|              Movies|\n",
      "| 31|     Anime/Animation|\n",
      "| 32|    Action/Adventure|\n",
      "+---+--------------------+\n",
      "only showing top 20 rows\n",
      "\n"
     ]
    }
   ],
   "source": [
    "categorias['US'].select('*').show()"
   ]
  },
  {
   "cell_type": "markdown",
   "id": "404021ca",
   "metadata": {},
   "source": [
    "### 3. Unindo Dataframes"
   ]
  },
  {
   "cell_type": "code",
   "execution_count": 9,
   "id": "c867e1f2",
   "metadata": {},
   "outputs": [],
   "source": [
    "schema = videos['US'].schema\n",
    "df_videos = spark.createDataFrame([], schema)"
   ]
  },
  {
   "cell_type": "code",
   "execution_count": 10,
   "id": "bf23afc8",
   "metadata": {
    "scrolled": true
   },
   "outputs": [
    {
     "name": "stdout",
     "output_type": "stream",
     "text": [
      "root\n",
      " |-- video_id: string (nullable = true)\n",
      " |-- trending_date: string (nullable = true)\n",
      " |-- title: string (nullable = true)\n",
      " |-- publish_time: string (nullable = true)\n",
      " |-- views: string (nullable = true)\n",
      " |-- likes: string (nullable = true)\n",
      " |-- dislikes: string (nullable = true)\n",
      " |-- comment_count: string (nullable = true)\n",
      " |-- category_title: string (nullable = true)\n",
      "\n"
     ]
    }
   ],
   "source": [
    "df_videos.printSchema()"
   ]
  },
  {
   "cell_type": "code",
   "execution_count": 12,
   "id": "baffafc5",
   "metadata": {},
   "outputs": [],
   "source": [
    "for pais in lista_paises:\n",
    "    df_videos = df_videos.union(videos[pais])"
   ]
  },
  {
   "cell_type": "code",
   "execution_count": 13,
   "id": "f7ed9003",
   "metadata": {},
   "outputs": [],
   "source": [
    "df_videos = df_videos.withColumn('views', f.col('views').cast('int')) \\\n",
    "                     .withColumn('likes', f.col('likes').cast('int')) \\\n",
    "                     .withColumn('dislikes', f.col('dislikes').cast('int')) \\\n",
    "                     .withColumn('comment_count', f.col('comment_count').cast('int')) \\\n",
    "                     .withColumn('trending_date', f.to_timestamp(f.col('trending_date'), 'yy.dd.MM')) \\\n",
    "                     .withColumn('publish_time', f.regexp_replace('publish_time', 'T', ' ')) \\\n",
    "                     .withColumn('publish_time', f.regexp_replace('publish_time', 'Z', '')) \\\n",
    "                     .withColumn('publish_time', f.to_timestamp(f.col('publish_time'), 'yyyy-MM-dd HH:mm:ss.SSS'))\\\n",
    "                     .withColumn(\"trending_date\", f.col(\"trending_date\") + f.expr(\"INTERVAL 1 days\"))\n",
    "    "
   ]
  },
  {
   "cell_type": "markdown",
   "id": "86d57988",
   "metadata": {},
   "source": [
    "### 4. Lidando com valores nulos"
   ]
  },
  {
   "cell_type": "code",
   "execution_count": 14,
   "id": "7a5b6ac6",
   "metadata": {},
   "outputs": [],
   "source": [
    "df_videos = df_videos.na.fill(value=0,subset=['comment_count', 'likes', 'dislikes'])"
   ]
  },
  {
   "cell_type": "markdown",
   "id": "a5d32349",
   "metadata": {},
   "source": [
    "### 5. Criando coluna interations"
   ]
  },
  {
   "cell_type": "code",
   "execution_count": 15,
   "id": "4aadc6d5",
   "metadata": {},
   "outputs": [],
   "source": [
    "df_videos = df_videos.withColumn('interation', f.col('likes')+f.col('dislikes')+f.col('comment_count'))"
   ]
  },
  {
   "cell_type": "code",
   "execution_count": 16,
   "id": "57fb2223",
   "metadata": {},
   "outputs": [
    {
     "name": "stderr",
     "output_type": "stream",
     "text": [
      "\r",
      "[Stage 31:>                                                         (0 + 1) / 1]\r",
      "\r",
      "                                                                                \r"
     ]
    },
    {
     "name": "stdout",
     "output_type": "stream",
     "text": [
      "+-----------+-------------+-------+--------+----------+\n",
      "|video_id   |comment_count|likes  |dislikes|interation|\n",
      "+-----------+-------------+-------+--------+----------+\n",
      "|n1WpP7iowLc|125882       |787425 |43420   |956727    |\n",
      "|0dBIkQ4Mz1M|13030        |127794 |1688    |142512    |\n",
      "|5qpjK5DgCt4|8181         |146035 |5339    |159555    |\n",
      "|d380meD0W0M|17518        |132239 |1989    |151746    |\n",
      "|2Vv-BfVoq4g|85067        |1634130|21082   |1740279   |\n",
      "|0yIWz1XEeyc|12143        |103755 |4613    |120511    |\n",
      "|_uM5kFfkhB8|26629        |187464 |9850    |223943    |\n",
      "|2kyS6SvSYSE|15959        |57534  |2967    |76460     |\n",
      "|JzCsM1vtn78|36391        |292837 |4123    |333351    |\n",
      "|43sm-QwLcx4|1484         |4135   |976     |6595      |\n",
      "|H1KBHFXm2Bg|28976        |263596 |8585    |301157    |\n",
      "|U3xLOo-CNwo|3312         |28451  |2285    |34048     |\n",
      "|FyZMnhUtLfE|186          |218    |30      |434       |\n",
      "|7MxiQ4v0EnE|8063         |127477 |7134    |142674    |\n",
      "|LUzsOyWp9lw|5335         |31810  |668     |37813     |\n",
      "|AS9-ITLhQxo|4277         |53961  |1697    |59935     |\n",
      "|gifPYwArCVQ|9619         |44558  |621     |54798     |\n",
      "|8NHA23f7LvU|605          |16116  |236     |16957     |\n",
      "|fy-CuCzaPp8|495          |19541  |70      |20106     |\n",
      "|kzwfHumJyYc|882          |33966  |798     |35646     |\n",
      "+-----------+-------------+-------+--------+----------+\n",
      "only showing top 20 rows\n",
      "\n"
     ]
    }
   ],
   "source": [
    "df_videos.select('video_id', 'comment_count', 'likes', 'dislikes', 'interation').show(truncate=False)"
   ]
  },
  {
   "cell_type": "markdown",
   "id": "874ccd36",
   "metadata": {},
   "source": [
    "### 6. Criando coluna time_to_trends"
   ]
  },
  {
   "cell_type": "code",
   "execution_count": 17,
   "id": "76d75a15",
   "metadata": {},
   "outputs": [],
   "source": [
    "df_videos = df_videos.withColumn('time_to_trends', f.col('trending_date').cast('long') - f.col('publish_time').cast('long'))"
   ]
  },
  {
   "cell_type": "code",
   "execution_count": 18,
   "id": "97c7d3fa",
   "metadata": {
    "scrolled": true
   },
   "outputs": [
    {
     "name": "stdout",
     "output_type": "stream",
     "text": [
      "+-----------+-------------------+--------+----------------+-------------------+--------------+\n",
      "|video_id   |trending_date      |views   |category_title  |publish_time       |time_to_trends|\n",
      "+-----------+-------------------+--------+----------------+-------------------+--------------+\n",
      "|n1WpP7iowLc|2017-11-15 00:00:00|17158579|Music           |2017-11-10 17:00:03|370797        |\n",
      "|0dBIkQ4Mz1M|2017-11-15 00:00:00|1014651 |Comedy          |2017-11-13 17:00:00|111600        |\n",
      "|5qpjK5DgCt4|2017-11-15 00:00:00|3191434 |Comedy          |2017-11-12 19:05:24|190476        |\n",
      "|d380meD0W0M|2017-11-15 00:00:00|2095828 |Entertainment   |2017-11-12 18:01:41|194299        |\n",
      "|2Vv-BfVoq4g|2017-11-15 00:00:00|33523622|Music           |2017-11-09 11:04:14|478546        |\n",
      "|0yIWz1XEeyc|2017-11-15 00:00:00|1309699 |News & Politics |2017-11-13 07:37:51|145329        |\n",
      "|_uM5kFfkhB8|2017-11-15 00:00:00|2987945 |Comedy          |2017-11-12 23:52:13|173267        |\n",
      "|2kyS6SvSYSE|2017-11-15 00:00:00|748374  |People & Blogs  |2017-11-13 17:13:01|110819        |\n",
      "|JzCsM1vtn78|2017-11-15 00:00:00|4477587 |Entertainment   |2017-11-12 20:19:24|186036        |\n",
      "|43sm-QwLcx4|2017-11-15 00:00:00|505161  |People & Blogs  |2017-11-10 14:10:46|380954        |\n",
      "|H1KBHFXm2Bg|2017-11-15 00:00:00|5068229 |Music           |2017-11-10 19:00:02|363598        |\n",
      "|U3xLOo-CNwo|2017-11-15 00:00:00|3153224 |Howto & Style   |2017-11-12 15:00:05|205195        |\n",
      "|FyZMnhUtLfE|2017-11-15 00:00:00|158815  |Film & Animation|2017-11-12 16:00:01|201599        |\n",
      "|7MxiQ4v0EnE|2017-11-15 00:00:00|5718766 |Music           |2017-11-11 16:41:15|285525        |\n",
      "|LUzsOyWp9lw|2017-11-15 00:00:00|960747  |Entertainment   |2017-11-12 22:00:01|179999        |\n",
      "|AS9-ITLhQxo|2017-11-15 00:00:00|1531218 |People & Blogs  |2017-11-11 16:00:44|287956        |\n",
      "|gifPYwArCVQ|2017-11-15 00:00:00|557883  |Comedy          |2017-11-13 01:30:01|167399        |\n",
      "|8NHA23f7LvU|2017-11-15 00:00:00|1496225 |Entertainment   |2017-11-10 19:06:23|363217        |\n",
      "|fy-CuCzaPp8|2017-11-15 00:00:00|308568  |Film & Animation|2017-11-13 14:00:03|122397        |\n",
      "|kzwfHumJyYc|2017-11-15 00:00:00|1096327 |Film & Animation|2017-11-12 12:20:39|214761        |\n",
      "+-----------+-------------------+--------+----------------+-------------------+--------------+\n",
      "only showing top 20 rows\n",
      "\n"
     ]
    }
   ],
   "source": [
    "df_videos.select('video_id', 'trending_date', 'views', 'category_title', 'publish_time', 'time_to_trends').show(truncate=False)"
   ]
  },
  {
   "cell_type": "code",
   "execution_count": 20,
   "id": "78885a6e",
   "metadata": {},
   "outputs": [
    {
     "name": "stdout",
     "output_type": "stream",
     "text": [
      "root\n",
      " |-- video_id: string (nullable = true)\n",
      " |-- trending_date: timestamp (nullable = true)\n",
      " |-- title: string (nullable = true)\n",
      " |-- publish_time: timestamp (nullable = true)\n",
      " |-- views: integer (nullable = true)\n",
      " |-- likes: integer (nullable = true)\n",
      " |-- dislikes: integer (nullable = true)\n",
      " |-- comment_count: integer (nullable = true)\n",
      " |-- category_title: string (nullable = true)\n",
      " |-- interation: integer (nullable = true)\n",
      " |-- time_to_trends: long (nullable = true)\n",
      "\n"
     ]
    }
   ],
   "source": [
    "df_videos.printSchema()"
   ]
  },
  {
   "cell_type": "markdown",
   "id": "5b915fd7",
   "metadata": {},
   "source": [
    "### 7. Criando Dataframe de Categoria"
   ]
  },
  {
   "cell_type": "code",
   "execution_count": 21,
   "id": "4dbedc24",
   "metadata": {},
   "outputs": [
    {
     "name": "stderr",
     "output_type": "stream",
     "text": [
      "                                                                                \r"
     ]
    },
    {
     "data": {
      "text/plain": [
       "[(1, 'Shows'),\n",
       " (2, 'Education'),\n",
       " (3, 'Gaming'),\n",
       " (4, 'Entertainment'),\n",
       " (5, 'Travel & Events'),\n",
       " (6, 'Science & Technology'),\n",
       " (7, 'Sports'),\n",
       " (8, 'Howto & Style'),\n",
       " (9, 'Nonprofits & Activism'),\n",
       " (10, 'Film & Animation'),\n",
       " (11, 'People & Blogs'),\n",
       " (12, 'News & Politics'),\n",
       " (13, 'Pets & Animals'),\n",
       " (14, 'Movies'),\n",
       " (15, 'Autos & Vehicles'),\n",
       " (16, 'Music'),\n",
       " (17, 'Comedy'),\n",
       " (18, 'Trailers')]"
      ]
     },
     "execution_count": 21,
     "metadata": {},
     "output_type": "execute_result"
    }
   ],
   "source": [
    "\n",
    "categorias_text = df_videos.select('category_title').distinct().collect()\n",
    "ids = [(idx+1, row.category_title) for idx, row in enumerate(categorias_text)]\n",
    "ids"
   ]
  },
  {
   "cell_type": "code",
   "execution_count": 22,
   "id": "4814b0b6",
   "metadata": {},
   "outputs": [],
   "source": [
    "df_categorias = spark.createDataFrame(ids).toDF('id', 'category_name')\n"
   ]
  },
  {
   "cell_type": "code",
   "execution_count": 23,
   "id": "ba1e3e8a",
   "metadata": {},
   "outputs": [
    {
     "name": "stdout",
     "output_type": "stream",
     "text": [
      "+---+--------------------+\n",
      "| id|       category_name|\n",
      "+---+--------------------+\n",
      "|  1|               Shows|\n",
      "|  2|           Education|\n",
      "|  3|              Gaming|\n",
      "|  4|       Entertainment|\n",
      "|  5|     Travel & Events|\n",
      "|  6|Science & Technology|\n",
      "|  7|              Sports|\n",
      "|  8|       Howto & Style|\n",
      "|  9|Nonprofits & Acti...|\n",
      "| 10|    Film & Animation|\n",
      "| 11|      People & Blogs|\n",
      "| 12|     News & Politics|\n",
      "| 13|      Pets & Animals|\n",
      "| 14|              Movies|\n",
      "| 15|    Autos & Vehicles|\n",
      "| 16|               Music|\n",
      "| 17|              Comedy|\n",
      "| 18|            Trailers|\n",
      "+---+--------------------+\n",
      "\n"
     ]
    }
   ],
   "source": [
    "df_categorias.show()"
   ]
  },
  {
   "cell_type": "markdown",
   "id": "02cccc82",
   "metadata": {},
   "source": [
    "### 8. Atualizando ID das categorias no DataFrame de Videos"
   ]
  },
  {
   "cell_type": "code",
   "execution_count": 24,
   "id": "4c64e264",
   "metadata": {},
   "outputs": [],
   "source": [
    "df_videos = df_videos.join(df_categorias, f.col('category_title') == f.col('category_name')) \\\n",
    "                    .withColumnRenamed('id', 'category_id') \\\n",
    "                    .drop('category_title')"
   ]
  },
  {
   "cell_type": "code",
   "execution_count": 25,
   "id": "ab12ccd0",
   "metadata": {
    "scrolled": true
   },
   "outputs": [
    {
     "name": "stdout",
     "output_type": "stream",
     "text": [
      "root\n",
      " |-- video_id: string (nullable = true)\n",
      " |-- trending_date: timestamp (nullable = true)\n",
      " |-- title: string (nullable = true)\n",
      " |-- publish_time: timestamp (nullable = true)\n",
      " |-- views: integer (nullable = true)\n",
      " |-- likes: integer (nullable = true)\n",
      " |-- dislikes: integer (nullable = true)\n",
      " |-- comment_count: integer (nullable = true)\n",
      " |-- interation: integer (nullable = true)\n",
      " |-- time_to_trends: long (nullable = true)\n",
      " |-- category_id: long (nullable = true)\n",
      " |-- category_name: string (nullable = true)\n",
      "\n"
     ]
    }
   ],
   "source": [
    "df_videos.printSchema()"
   ]
  },
  {
   "cell_type": "markdown",
   "id": "87188f40",
   "metadata": {},
   "source": [
    "### 9. Criar coluna qtd_view no DataFrame de Categorias"
   ]
  },
  {
   "cell_type": "code",
   "execution_count": 32,
   "id": "5ec677b9",
   "metadata": {},
   "outputs": [
    {
     "name": "stderr",
     "output_type": "stream",
     "text": [
      "[Stage 125:===========================================>         (165 + 4) / 200]\r"
     ]
    },
    {
     "name": "stdout",
     "output_type": "stream",
     "text": [
      "+-----------+-----------+---------+\n",
      "|   video_id|category_id|max_views|\n",
      "+-----------+-----------+---------+\n",
      "|AlrbKKGIcjI|          1|   591632|\n",
      "|syiEqRf0Xp8|          1|   584519|\n",
      "|FH0NCnqKwmM|          1|   778339|\n",
      "|7ps84kSkLvQ|          1|    71776|\n",
      "|rle8kRdPvH0|          1|   101183|\n",
      "|wUJqPb9Uc34|          1|   179314|\n",
      "|4kfas12xWOw|          2|     3648|\n",
      "|W6bUF2VirhI|          2|     9086|\n",
      "|yfObh93krmE|          2|     3173|\n",
      "|oVcF6Q0PV4M|          2|    28888|\n",
      "|2FnDSWqkEAo|          2|    30113|\n",
      "|Ukjn7A9L7vY|          2|   150609|\n",
      "|_Ct7yN_iELM|          2|    25120|\n",
      "|8zQ8PXLxGt4|          2|    34935|\n",
      "|C7cqCL9BfaE|          2|    54557|\n",
      "|oycYpm5jCYA|          2|    43150|\n",
      "|fyzDgCxD8DY|          2|    17147|\n",
      "|OqZOZ6PViIM|          2|     6681|\n",
      "|pQWrqUHveAw|          2|     7437|\n",
      "|gJNkBOcPjLQ|          2|    42501|\n",
      "+-----------+-----------+---------+\n",
      "only showing top 20 rows\n",
      "\n"
     ]
    },
    {
     "name": "stderr",
     "output_type": "stream",
     "text": [
      "\r",
      "[Stage 125:=================================================>   (186 + 5) / 200]\r",
      "\r",
      "                                                                                \r"
     ]
    }
   ],
   "source": [
    "df_max_views = df_videos.groupBy('video_id', 'category_id').agg(f.max('views').alias('max_views'))\n",
    "\n",
    "df_max_views.show()"
   ]
  },
  {
   "cell_type": "code",
   "execution_count": 33,
   "id": "731c1f4a",
   "metadata": {},
   "outputs": [],
   "source": [
    "df_categorias = df_categorias.join( \\\n",
    "                        df_max_views.groupBy('category_id').agg(f.sum('max_views').alias('qtd_views')), \\\n",
    "                        f.col('id') == f.col('category_id')) \\\n",
    "                    .drop('category_id')         "
   ]
  },
  {
   "cell_type": "code",
   "execution_count": 34,
   "id": "031c3475",
   "metadata": {
    "scrolled": true
   },
   "outputs": [
    {
     "name": "stderr",
     "output_type": "stream",
     "text": [
      "                                                                                \r"
     ]
    },
    {
     "name": "stdout",
     "output_type": "stream",
     "text": [
      "+---+--------------------+-----------+\n",
      "| id|       category_name|  qtd_views|\n",
      "+---+--------------------+-----------+\n",
      "|  7|              Sports| 4053394648|\n",
      "|  6|Science & Technology| 1276760759|\n",
      "|  9|Nonprofits & Acti...|   31064609|\n",
      "| 17|              Comedy| 4585317173|\n",
      "|  5|     Travel & Events|  180624687|\n",
      "|  1|               Shows|  151690576|\n",
      "| 10|    Film & Animation| 3198908495|\n",
      "|  3|              Gaming| 1424909053|\n",
      "| 12|     News & Politics| 3478436055|\n",
      "|  8|       Howto & Style| 2217639651|\n",
      "| 11|      People & Blogs| 5633249302|\n",
      "|  2|           Education|  590198575|\n",
      "|  4|       Entertainment|17643070511|\n",
      "| 13|      Pets & Animals|  362257052|\n",
      "| 18|            Trailers|      38453|\n",
      "| 14|              Movies|    8053865|\n",
      "| 15|    Autos & Vehicles|  662117761|\n",
      "| 16|               Music|18232006171|\n",
      "+---+--------------------+-----------+\n",
      "\n"
     ]
    }
   ],
   "source": [
    "df_categorias.show()"
   ]
  },
  {
   "cell_type": "code",
   "execution_count": null,
   "id": "507d51f1",
   "metadata": {},
   "outputs": [],
   "source": [
    "df_categorias.printSchema()"
   ]
  },
  {
   "cell_type": "markdown",
   "id": "ced37438",
   "metadata": {},
   "source": [
    "## Salvando dados no MongoDB"
   ]
  },
  {
   "cell_type": "code",
   "execution_count": null,
   "id": "4e614dfa",
   "metadata": {},
   "outputs": [],
   "source": [
    "df_categorias.write.format(\"mongo\").mode(\"overwrite\").option(\"database\",\"teste\")\\\n",
    "            .option(\"collection\", \"categorias\").save()"
   ]
  },
  {
   "cell_type": "code",
   "execution_count": null,
   "id": "03970b5b",
   "metadata": {},
   "outputs": [],
   "source": [
    "df_videos.write.format(\"mongo\").mode(\"overwrite\").option(\"database\",\"teste\") \\ \n",
    "            .option(\"collection\", \"videos\").save()"
   ]
  },
  {
   "cell_type": "code",
   "execution_count": 19,
   "id": "b036532a",
   "metadata": {},
   "outputs": [
    {
     "name": "stderr",
     "output_type": "stream",
     "text": [
      "[Stage 55:=====================================================>  (80 + 4) / 84]\r"
     ]
    },
    {
     "name": "stdout",
     "output_type": "stream",
     "text": [
      "+-----------+--------------+-------------------+-------------------+\n",
      "|   video_id|time_to_trends|       publish_time|      trending_date|\n",
      "+-----------+--------------+-------------------+-------------------+\n",
      "|KyoL63wIARs|         11300|2018-05-31 20:51:40|2018-06-01 00:00:00|\n",
      "|KyoL63wIARs|         11300|2018-05-31 20:51:40|2018-06-01 00:00:00|\n",
      "|dZ0O45CLwlM|         11365|2018-05-31 20:50:35|2018-06-01 00:00:00|\n",
      "|dZ0O45CLwlM|         11365|2018-05-31 20:50:35|2018-06-01 00:00:00|\n",
      "|g0je4ji8o1M|         15551|2018-05-31 19:40:49|2018-06-01 00:00:00|\n",
      "|g0je4ji8o1M|         15551|2018-05-31 19:40:49|2018-06-01 00:00:00|\n",
      "|ZqWRDbqTUPA|         19706|2018-06-10 18:31:34|2018-06-11 00:00:00|\n",
      "|ZqWRDbqTUPA|         19706|2018-06-10 18:31:34|2018-06-11 00:00:00|\n",
      "|kmjJ9K2jP90|         20480|2018-05-31 18:18:40|2018-06-01 00:00:00|\n",
      "|kmjJ9K2jP90|         20480|2018-05-31 18:18:40|2018-06-01 00:00:00|\n",
      "|ynEN3LqUuZQ|         21467|2018-06-10 18:02:13|2018-06-11 00:00:00|\n",
      "|ynEN3LqUuZQ|         21467|2018-06-10 18:02:13|2018-06-11 00:00:00|\n",
      "|ynEN3LqUuZQ|         21467|2018-06-10 18:02:13|2018-06-11 00:00:00|\n",
      "|ynEN3LqUuZQ|         21467|2018-06-10 18:02:13|2018-06-11 00:00:00|\n",
      "|7HQ7J0yS0Cw|         21673|2018-05-31 17:58:47|2018-06-01 00:00:00|\n",
      "|7HQ7J0yS0Cw|         21673|2018-05-31 17:58:47|2018-06-01 00:00:00|\n",
      "|ZHqDZDQ8_-E|         22146|2018-05-31 17:50:54|2018-06-01 00:00:00|\n",
      "|ZHqDZDQ8_-E|         22146|2018-05-31 17:50:54|2018-06-01 00:00:00|\n",
      "|T7WtfwFlVSg|         22215|2018-05-31 17:49:45|2018-06-01 00:00:00|\n",
      "|T7WtfwFlVSg|         22215|2018-05-31 17:49:45|2018-06-01 00:00:00|\n",
      "+-----------+--------------+-------------------+-------------------+\n",
      "only showing top 20 rows\n",
      "\n"
     ]
    },
    {
     "name": "stderr",
     "output_type": "stream",
     "text": [
      "\r",
      "[Stage 55:======================================================> (81 + 3) / 84]\r",
      "\r",
      "                                                                                \r"
     ]
    }
   ],
   "source": [
    "df_videos.select('video_id', 'time_to_trends', 'publish_time', 'trending_date')\\\n",
    ".sort(df_videos.time_to_trends, ascending=True).show()"
   ]
  },
  {
   "cell_type": "code",
   "execution_count": null,
   "id": "8cc26735",
   "metadata": {},
   "outputs": [],
   "source": []
  }
 ],
 "metadata": {
  "kernelspec": {
   "display_name": "Python 3 (ipykernel)",
   "language": "python",
   "name": "python3"
  },
  "language_info": {
   "codemirror_mode": {
    "name": "ipython",
    "version": 3
   },
   "file_extension": ".py",
   "mimetype": "text/x-python",
   "name": "python",
   "nbconvert_exporter": "python",
   "pygments_lexer": "ipython3",
   "version": "3.9.7"
  }
 },
 "nbformat": 4,
 "nbformat_minor": 5
}
